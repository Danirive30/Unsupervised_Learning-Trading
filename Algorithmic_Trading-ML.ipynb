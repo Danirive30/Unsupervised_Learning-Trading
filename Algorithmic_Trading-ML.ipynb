{
 "cells": [
  {
   "cell_type": "markdown",
   "metadata": {},
   "source": [
    "# Unsupervised Learning Trading Strategy\n",
    "\n",
    "1. Download/Load SP500 stocks prices data.\n",
    "2. Calculate different features and indicators on each stock.\n",
    "3. Aggregate on monthly level and filter top 150 most liquid stocks.\n",
    "4. Calculate Monthly Returns for different time-horizons.\n",
    "5. Download Fama-French Factors and Calculate Rolling Factor Betas.\n",
    "6. For each month fit a K-Means Clustering Algorithm to group similar assets based on their features.\n",
    "7. For each month select assets based on the cluster and form a portfolio based on Efficient Frontier max sharpe ratio optimization.\n",
    "8. Visualize Portfolio returns and compare to SP500 returns."
   ]
  },
  {
   "cell_type": "markdown",
   "metadata": {},
   "source": [
    "# All Packages Needed:\n",
    "\n",
    "* pandas, numpy, matplotlib, statsmodels, pandas_datareader, datetime, yfinance, sklearn, PyPortfolioOpt"
   ]
  }
 ],
 "metadata": {
  "language_info": {
   "name": "python"
  }
 },
 "nbformat": 4,
 "nbformat_minor": 2
}
